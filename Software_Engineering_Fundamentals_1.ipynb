{
  "nbformat": 4,
  "nbformat_minor": 0,
  "metadata": {
    "colab": {
      "provenance": [],
      "include_colab_link": true
    },
    "kernelspec": {
      "name": "python3",
      "display_name": "Python 3"
    },
    "language_info": {
      "name": "python"
    }
  },
  "cells": [
    {
      "cell_type": "markdown",
      "metadata": {
        "id": "view-in-github",
        "colab_type": "text"
      },
      "source": [
        "<a href=\"https://colab.research.google.com/github/bazgreen/python-lab/blob/main/Software_Engineering_Fundamentals_1.ipynb\" target=\"_parent\"><img src=\"https://colab.research.google.com/assets/colab-badge.svg\" alt=\"Open In Colab\"/></a>"
      ]
    },
    {
      "cell_type": "code",
      "execution_count": null,
      "metadata": {
        "id": "LrkhHcybgcQ-"
      },
      "outputs": [],
      "source": []
    },
    {
      "cell_type": "markdown",
      "source": [
        "Google Colab notebooks are composed of cells, and each cell can contain code or text. To create a code cell, click on the \"+\" button in the toolbar or press Ctrl + MandB (for below) in the notebook.\n",
        "\n",
        "Let's write a simple Python code in a cell and run it:"
      ],
      "metadata": {
        "id": "yyaxB2yorqD3"
      }
    },
    {
      "cell_type": "code",
      "source": [
        "# This is a code cell\n",
        "# Let's calculate the sum of two numbers\n",
        "\n",
        "num1 = 10\n",
        "num2 = 20\n",
        "sum_result = num1 + num2\n",
        "\n",
        "print(\"Sum:\", sum_result)\n"
      ],
      "metadata": {
        "colab": {
          "base_uri": "https://localhost:8080/"
        },
        "id": "FgSS9httrrMY",
        "outputId": "8b2f9603-99aa-4a30-e05b-8316773db326"
      },
      "execution_count": null,
      "outputs": [
        {
          "output_type": "stream",
          "name": "stdout",
          "text": [
            "Sum: 30\n"
          ]
        }
      ]
    },
    {
      "cell_type": "markdown",
      "source": [
        "ToShift + Enter. When you run the cell, Google Colab will execute the code and display the output below the cell."
      ],
      "metadata": {
        "id": "3Py2Fu1_rvOH"
      }
    },
    {
      "cell_type": "markdown",
      "source": [
        "Explanation of the Code\n",
        "\n",
        "Thenum1 and num2, and stores the result in the variable sum_result. The print() function is used to display the output, which will be \"Sum: 30\" in this case (since num1 is 10 and num2 is 20)."
      ],
      "metadata": {
        "id": "OWkAnwYpryzb"
      }
    },
    {
      "cell_type": "markdown",
      "source": [
        "## Python language"
      ],
      "metadata": {
        "id": "o0Lh9lTvr2GL"
      }
    },
    {
      "cell_type": "markdown",
      "source": [
        "Python is a high level programming language, which means it's closer to human language than machine language.\n",
        "\n",
        "Remember from your pre reading material that Python is how you give the computer commands.\n",
        "\n",
        "This session will be focussed on some of the building blocks of the language.\n"
      ],
      "metadata": {
        "id": "oYnzCGxkr6j-"
      }
    },
    {
      "cell_type": "markdown",
      "source": [
        "# Variables"
      ],
      "metadata": {
        "id": "_Rr891v6kQnJ"
      }
    },
    {
      "cell_type": "markdown",
      "source": [
        "In Python, a variable is a named storage location that holds a value. It acts as a container to store data, and its name is used to refer to that data throughout the program. Variables are crucial in programming as they enable us to work with data dynamically, making our code more flexible and efficient.\n"
      ],
      "metadata": {
        "id": "BYsbqHKqkTEo"
      }
    },
    {
      "cell_type": "markdown",
      "source": [
        "1. **Data Storage:** Variables allow us to store data in memory. Instead of hardcoding values directly into the code, we can assign them to variables and use those variables throughout the program. This makes our code more organized and easier to maintain.\n",
        "\n",
        "2. **Value Reusability:** Once a value is assigned to a variable, we can reuse that value multiple times without having to rewrite it. This promotes code reusability and reduces redundancy.\n",
        "\n",
        "3. **Dynamic Nature:** Python is a dynamically-typed language, meaning the data type of a variable is determined at runtime based on the assigned value. This flexibility allows us to change the value and data type of a variable during program execution.\n",
        "\n",
        "4. **Readability and Understanding:** By giving meaningful names to variables, we can enhance the readability of our code. Clear and descriptive variable names make it easier for others (and ourselves) to understand the purpose of each value.\n",
        "\n",
        "5. **Variable Manipulation:** Variables can be manipulated using arithmetic operations, logical operations, and other Python functionalities. This makes it easy to perform calculations and operations on the stored data."
      ],
      "metadata": {
        "id": "5a2O6EuOkVri"
      }
    },
    {
      "cell_type": "markdown",
      "source": [
        "\n",
        "Let's see a simple example to understand the use of variables in Python:"
      ],
      "metadata": {
        "id": "Kp3Ya3FbkaR_"
      }
    },
    {
      "cell_type": "code",
      "source": [
        "# Assigning values to variables\n",
        "name = \"Laila\"\n",
        "age = 30\n",
        "is_student = True\n",
        "\n",
        "# Using variables in the program\n",
        "print(\"Name:\", name)\n",
        "print(\"Age:\", age)\n",
        "\n",
        "if is_student:\n",
        "    print(\"This person is a student.\")\n",
        "else:\n",
        "    print(\"This person is not a student.\")\n"
      ],
      "metadata": {
        "colab": {
          "base_uri": "https://localhost:8080/"
        },
        "id": "TlR4v9SukdPJ",
        "outputId": "0735fa7e-cccb-4d47-ac15-8163c3f296a8"
      },
      "execution_count": null,
      "outputs": [
        {
          "output_type": "stream",
          "name": "stdout",
          "text": [
            "Name: Laila\n",
            "Age: 30\n",
            "This person is a student.\n"
          ]
        }
      ]
    },
    {
      "cell_type": "markdown",
      "source": [
        "In the above example, we use variables (`name`, `age`, and `is_student`) to store and represent different pieces of data. This makes the code more readable, and we can easily modify the values of these variables without changing the code's structure.\n",
        "\n",
        "By using variables, we make our code more flexible and maintainable. We can change the values assigned to the variables at any point during program execution, and the program will adjust accordingly. Variables are fundamental tools that enable us to work with data efficiently and effectively in Python programming."
      ],
      "metadata": {
        "id": "ZA_tVvrxkpTE"
      }
    },
    {
      "cell_type": "markdown",
      "source": [
        "# Data types: Overview"
      ],
      "metadata": {
        "id": "gKylMZtLsfwO"
      }
    },
    {
      "cell_type": "markdown",
      "source": [
        "In Python, data types represent the type of value that a variable can hold. Python is a dynamically-typed language, which means that the data type of a variable is determined at runtime based on the value assigned to it. In this tutorial, we will introduce some of the commonly used data types in Python.\n"
      ],
      "metadata": {
        "id": "_chkkLShiAhV"
      }
    },
    {
      "cell_type": "markdown",
      "source": [
        "##Numeric Data Types\n",
        "\n",
        "Integers (int)\n",
        "Integers are whole numbers, positive or negative, without any fractional part."
      ],
      "metadata": {
        "id": "87ypqdyQiB3-"
      }
    },
    {
      "cell_type": "markdown",
      "source": [],
      "metadata": {
        "id": "1jRJcueCiHOs"
      }
    },
    {
      "cell_type": "code",
      "source": [
        "# Example of integer data type\n",
        "age = 25\n"
      ],
      "metadata": {
        "id": "ZZQfYA8PiHg8"
      },
      "execution_count": null,
      "outputs": []
    },
    {
      "cell_type": "markdown",
      "source": [
        "Floating-Point Numbers (float)\n",
        "Floating-point numbers are numbers that have a decimal point or are written in scientific notation."
      ],
      "metadata": {
        "id": "6kQBa5MmiB6t"
      }
    },
    {
      "cell_type": "code",
      "source": [
        "# Example of float data type\n",
        "pi = 3.14159\n"
      ],
      "metadata": {
        "id": "ZUWOo-H4iNAk"
      },
      "execution_count": null,
      "outputs": []
    },
    {
      "cell_type": "markdown",
      "source": [
        "Complex Numbers (complex)\n",
        "Complex numbers are represented as a combination of a real part and an imaginary part (denoted by \"j\" or \"J\")."
      ],
      "metadata": {
        "id": "Uz7L3LJOiB9R"
      }
    },
    {
      "cell_type": "code",
      "source": [
        "# Example of complex data type\n",
        "z = 2 + 3j\n"
      ],
      "metadata": {
        "id": "0VRhBih3iR6h"
      },
      "execution_count": null,
      "outputs": []
    },
    {
      "cell_type": "markdown",
      "source": [
        "## Text data type"
      ],
      "metadata": {
        "id": "NsuIJ0VwiTkT"
      }
    },
    {
      "cell_type": "markdown",
      "source": [
        "Strings (str)\n",
        "Strings are sequences of characters enclosed in single (' ') or double (\" \") quotes."
      ],
      "metadata": {
        "id": "0ppPEgjkiWcb"
      }
    },
    {
      "cell_type": "code",
      "source": [
        "# Example of string data type\n",
        "name = \"Alice\"\n",
        "message = 'Hello, World!'\n"
      ],
      "metadata": {
        "id": "kHDPyKFjiYbS"
      },
      "execution_count": null,
      "outputs": []
    },
    {
      "cell_type": "markdown",
      "source": [
        "## Boolean Data Type"
      ],
      "metadata": {
        "id": "aDTXFe3xicsU"
      }
    },
    {
      "cell_type": "markdown",
      "source": [
        "Boolean (bool)\n",
        "Boolean data type represents the truth values True or False."
      ],
      "metadata": {
        "id": "GP29vUIPifdb"
      }
    },
    {
      "cell_type": "code",
      "source": [
        "# Example of boolean data type\n",
        "is_student = True\n",
        "is_teacher = False\n"
      ],
      "metadata": {
        "id": "GTVbg5Plihfz"
      },
      "execution_count": null,
      "outputs": []
    },
    {
      "cell_type": "markdown",
      "source": [
        "## Sequence Data Types"
      ],
      "metadata": {
        "id": "Bj8nkd4Yilsg"
      }
    },
    {
      "cell_type": "markdown",
      "source": [
        "**Lists:**\n",
        "Lists are ordered collections of elements that can be of different data types."
      ],
      "metadata": {
        "id": "muIpGUVmiokU"
      }
    },
    {
      "cell_type": "code",
      "source": [
        "# Example of list data type\n",
        "numbers = [1, 2, 3, 4, 5]\n",
        "fruits = [\"apple\", \"banana\", \"orange\"]\n"
      ],
      "metadata": {
        "id": "IHrhWJ1hiiyJ"
      },
      "execution_count": null,
      "outputs": []
    },
    {
      "cell_type": "markdown",
      "source": [
        "**Tuples:**\n",
        "Tuples are similar to lists but are immutable, meaning their elements cannot be changed after creation."
      ],
      "metadata": {
        "id": "Va2BwL03ip-p"
      }
    },
    {
      "cell_type": "code",
      "source": [
        "# Example of tuple data type\n",
        "point = (10, 20)\n",
        "colors = ('red', 'green', 'blue')\n"
      ],
      "metadata": {
        "id": "DCYzgL6lirmG"
      },
      "execution_count": null,
      "outputs": []
    },
    {
      "cell_type": "markdown",
      "source": [
        "**Dictionaries:**\n",
        "Dictionaries are collections of key-value pairs, where each key is associated with a value."
      ],
      "metadata": {
        "id": "gu5vLuMgiu9X"
      }
    },
    {
      "cell_type": "code",
      "source": [
        "# Example of dictionary data type\n",
        "person = {'name': 'John', 'age': 30, 'city': 'New York'}"
      ],
      "metadata": {
        "id": "JnP0aQKAivyp"
      },
      "execution_count": null,
      "outputs": []
    },
    {
      "cell_type": "markdown",
      "source": [
        "Understanding data types is essential as it helps in performing various operations and manipulations on the data in Python. In the upcoming tutorials, we will explore more advanced concepts related to these data types and learn how to work with them effectively in Python."
      ],
      "metadata": {
        "id": "lih94dCPi0Rc"
      }
    },
    {
      "cell_type": "code",
      "source": [],
      "metadata": {
        "id": "WIvBNft7i1b1"
      },
      "execution_count": null,
      "outputs": []
    },
    {
      "cell_type": "markdown",
      "source": [
        "# Data types: In depth"
      ],
      "metadata": {
        "id": "JNgvImsMsa28"
      }
    },
    {
      "cell_type": "code",
      "source": [],
      "metadata": {
        "id": "HIvLszsysnU7"
      },
      "execution_count": null,
      "outputs": []
    },
    {
      "cell_type": "markdown",
      "source": [
        "Python supports several numeric data types to handle numerical data. In this tutorial, we will explore the three main numeric data types in Python:\n",
        "\n",
        "1. **Integers (`int`):** Whole numbers without a fractional component.\n",
        "2. **Floating-Point Numbers (`float`):** Numbers with a decimal point or in scientific notation.\n",
        "3. **Complex Numbers (`complex`):** Numbers with a real and imaginary part.\n",
        "\n",
        "Let's dive into each data type with examples:"
      ],
      "metadata": {
        "id": "ms4R_Jxhsy9P"
      }
    },
    {
      "cell_type": "markdown",
      "source": [
        "### 1. Integers (`int`)\n",
        "\n",
        "**Integers** represent whole numbers, positive or negative, without a fractional part."
      ],
      "metadata": {
        "id": "vX-Y3MxHs6Ap"
      }
    },
    {
      "cell_type": "code",
      "source": [
        "\n",
        "# Example: Integers\n",
        "x = 10\n",
        "y = -5\n",
        "z = 0\n",
        "\n",
        "print(x)  # Output: 10\n",
        "print(y)  # Output: -5\n",
        "print(z)  # Output: 0\n",
        "\n"
      ],
      "metadata": {
        "id": "yY74UIP4s1xk",
        "colab": {
          "base_uri": "https://localhost:8080/"
        },
        "outputId": "7185c245-08be-4363-deea-79ab8c60987b"
      },
      "execution_count": null,
      "outputs": [
        {
          "output_type": "stream",
          "name": "stdout",
          "text": [
            "10\n",
            "-5\n",
            "0\n"
          ]
        }
      ]
    },
    {
      "cell_type": "markdown",
      "source": [
        "### 2. Floating-Point Numbers (`float`)\n",
        "\n",
        "**Floating-point** numbers represent numbers with a decimal point or in scientific notation."
      ],
      "metadata": {
        "id": "mwFoyrMNs7u7"
      }
    },
    {
      "cell_type": "code",
      "source": [
        "# Example: Floating-Point Numbers\n",
        "a = 3.14\n",
        "b = -2.5\n",
        "c = 1e6  # 1 x 10^6\n",
        "\n",
        "print(a)  # Output: 3.14\n",
        "print(b)  # Output: -2.5\n",
        "print(c)  # Output: 1000000.0"
      ],
      "metadata": {
        "id": "N0RQoLvys9Da",
        "colab": {
          "base_uri": "https://localhost:8080/"
        },
        "outputId": "854622fb-de22-452e-ff1d-346b35c42e4d"
      },
      "execution_count": null,
      "outputs": [
        {
          "output_type": "stream",
          "name": "stdout",
          "text": [
            "3.14\n",
            "-2.5\n",
            "1000000.0\n"
          ]
        }
      ]
    },
    {
      "cell_type": "markdown",
      "source": [
        "### 3. Complex Numbers (`complex`)\n",
        "\n",
        "**Complex** numbers consist of a real part and an imaginary part represented by `j` or `J`."
      ],
      "metadata": {
        "id": "LXwJdgrzs_ov"
      }
    },
    {
      "cell_type": "code",
      "source": [
        "# Example: Complex Numbers\n",
        "p = 2 + 3j\n",
        "q = -4j\n",
        "\n",
        "print(p)  # Output: (2+3j)\n",
        "print(q)  # Output: (-0-4j)"
      ],
      "metadata": {
        "colab": {
          "base_uri": "https://localhost:8080/"
        },
        "id": "b1lZHYvStEuu",
        "outputId": "f6880375-1d56-4710-a982-2c781f00e5b7"
      },
      "execution_count": null,
      "outputs": [
        {
          "output_type": "stream",
          "name": "stdout",
          "text": [
            "(2+3j)\n",
            "(-0-4j)\n"
          ]
        }
      ]
    },
    {
      "cell_type": "code",
      "source": [],
      "metadata": {
        "id": "32CyuQc7tFX4"
      },
      "execution_count": null,
      "outputs": []
    },
    {
      "cell_type": "markdown",
      "source": [
        "### Numeric Operations\n",
        "\n",
        "Python allows you to perform various arithmetic operations with numeric data types:"
      ],
      "metadata": {
        "id": "2ymAvx3itHsT"
      }
    },
    {
      "cell_type": "code",
      "source": [
        "# Numeric Operations\n",
        "a = 10\n",
        "b = 3\n",
        "\n",
        "print(a + b)  # Addition: 13\n",
        "print(a - b)  # Subtraction: 7\n",
        "print(a * b)  # Multiplication: 30\n",
        "print(a / b)  # Division: 3.3333333333333335 (floating-point result)\n",
        "print(a // b) # Floor Division: 3 (integer result)\n",
        "print(a % b)  # Modulo: 1 (remainder after division)\n",
        "print(a ** b) # Exponentiation: 1000"
      ],
      "metadata": {
        "colab": {
          "base_uri": "https://localhost:8080/"
        },
        "id": "fG0K1kyatIJt",
        "outputId": "a275fdfc-8236-4bc4-ea08-a438e0e01168"
      },
      "execution_count": null,
      "outputs": [
        {
          "output_type": "stream",
          "name": "stdout",
          "text": [
            "13\n",
            "7\n",
            "30\n",
            "3.3333333333333335\n",
            "3\n",
            "1\n",
            "1000\n"
          ]
        }
      ]
    },
    {
      "cell_type": "code",
      "source": [],
      "metadata": {
        "id": "_c1QLH7ftLA1"
      },
      "execution_count": null,
      "outputs": []
    },
    {
      "cell_type": "markdown",
      "source": [
        "### Type Conversion (Casting)\n",
        "\n",
        "Python allows you to convert between different numeric data types using type casting."
      ],
      "metadata": {
        "id": "MqrNEJExtNqb"
      }
    },
    {
      "cell_type": "code",
      "source": [
        "\n",
        "# Type Conversion\n",
        "x = 10\n",
        "y = 3.14\n",
        "z = 1 + 2j\n",
        "\n",
        "# Convert to int\n",
        "x_int = int(x)\n",
        "print(x_int)  # Output: 10\n",
        "\n",
        "# Convert to float\n",
        "y_float = float(y)\n",
        "print(y_float)  # Output: 3.14\n",
        "\n",
        "# Convert to complex\n",
        "z_complex = complex(z)\n",
        "print(z_complex)  # Output: (1+2j)\n"
      ],
      "metadata": {
        "colab": {
          "base_uri": "https://localhost:8080/"
        },
        "id": "Md-K0aV0tOFH",
        "outputId": "caa1bd8e-bab1-4377-9d72-d74feca0a622"
      },
      "execution_count": null,
      "outputs": [
        {
          "output_type": "stream",
          "name": "stdout",
          "text": [
            "10\n",
            "3.14\n",
            "(1+2j)\n"
          ]
        }
      ]
    },
    {
      "cell_type": "markdown",
      "source": [
        "Python offers powerful support for working with numeric data, including integers, floating-point numbers, and complex numbers. Understanding the various numeric data types and their operations is essential for performing mathematical calculations and solving real-world problems with Python. Experiment with numeric data and arithmetic operations to gain familiarity and confidence in using numeric data types in Python."
      ],
      "metadata": {
        "id": "tmq9GvMHtUay"
      }
    },
    {
      "cell_type": "code",
      "source": [],
      "metadata": {
        "id": "yhKClaGUtQov"
      },
      "execution_count": null,
      "outputs": []
    },
    {
      "cell_type": "markdown",
      "source": [
        "## Strings"
      ],
      "metadata": {
        "id": "mc0ROc20tugA"
      }
    },
    {
      "cell_type": "code",
      "source": [],
      "metadata": {
        "id": "lV1SgOyQtx5f"
      },
      "execution_count": null,
      "outputs": []
    },
    {
      "cell_type": "markdown",
      "source": [
        "Introduction to Strings\n",
        "In Python, a string is a sequence of characters enclosed in single (' ') or double (\" \") quotes. Strings are immutable, which means once created, their contents cannot be changed.\n",
        "\n",
        "**Creating Strings:**\n",
        "To create a string, you can simply enclose a sequence of characters in single or double quotes:"
      ],
      "metadata": {
        "id": "cpModM_Wtyfg"
      }
    },
    {
      "cell_type": "code",
      "source": [
        "# Creating strings\n",
        "string1 = 'Hello, World!'\n",
        "string2 = \"Python is awesome\"\n"
      ],
      "metadata": {
        "id": "LfoXQDXnt081"
      },
      "execution_count": null,
      "outputs": []
    },
    {
      "cell_type": "markdown",
      "source": [
        "**String Operations:**\n",
        "Concatenation\n",
        "Strings can be concatenated using the + operator"
      ],
      "metadata": {
        "id": "hTcdobHjt2NJ"
      }
    },
    {
      "cell_type": "code",
      "source": [
        "# String concatenation\n",
        "name = \"John\"\n",
        "greeting = \"Hello, \" + name\n",
        "print(greeting)  # Output: \"Hello, John\"\n"
      ],
      "metadata": {
        "id": "bbfLSExWt4Yj"
      },
      "execution_count": null,
      "outputs": []
    },
    {
      "cell_type": "markdown",
      "source": [
        "**String Length:**\n",
        "To find the length of a string, you can use the len() function:"
      ],
      "metadata": {
        "id": "VjQgFDBkt5qA"
      }
    },
    {
      "cell_type": "code",
      "source": [
        "# String length\n",
        "text = \"Hello, Python!\"\n",
        "length = len(text)\n",
        "print(length)  # Output: 14\n"
      ],
      "metadata": {
        "id": "CV_iuKuqt7UQ"
      },
      "execution_count": null,
      "outputs": []
    },
    {
      "cell_type": "markdown",
      "source": [
        "**Accessing Characters in a String:**\n",
        "You can access individual characters in a string using indexing:"
      ],
      "metadata": {
        "id": "tMmZ2B1Xt8tG"
      }
    },
    {
      "cell_type": "code",
      "source": [
        "# Accessing characters\n",
        "text = \"Python\"\n",
        "first_char = text[0]\n",
        "last_char = text[-1]\n",
        "print(first_char)  # Output: \"P\"\n",
        "print(last_char)   # Output: \"n\"\n"
      ],
      "metadata": {
        "colab": {
          "base_uri": "https://localhost:8080/"
        },
        "id": "Xvk3yP_et-sj",
        "outputId": "d76e0bd9-7be5-410b-be8f-ecc1ea0c04ae"
      },
      "execution_count": null,
      "outputs": [
        {
          "output_type": "stream",
          "name": "stdout",
          "text": [
            "P\n",
            "n\n"
          ]
        }
      ]
    },
    {
      "cell_type": "code",
      "source": [],
      "metadata": {
        "id": "3Vpgo6dRt_MP"
      },
      "execution_count": null,
      "outputs": []
    },
    {
      "cell_type": "markdown",
      "source": [
        "**String Slicing:**\n",
        "Slicing allows you to extract a portion of a string:"
      ],
      "metadata": {
        "id": "Mrz3tpDUuAtV"
      }
    },
    {
      "cell_type": "code",
      "source": [
        "# Slicing strings\n",
        "text = \"Hello, World!\"\n",
        "substring1 = text[0:5]\n",
        "substring2 = text[7:]\n",
        "print(substring1)  # Output: \"Hello\"\n",
        "print(substring2)  # Output: \"World!\"\n"
      ],
      "metadata": {
        "colab": {
          "base_uri": "https://localhost:8080/"
        },
        "id": "itglbrGEuCb8",
        "outputId": "344b6211-bd6a-4bf9-8224-616607ff5656"
      },
      "execution_count": null,
      "outputs": [
        {
          "output_type": "stream",
          "name": "stdout",
          "text": [
            "Hello\n",
            "World!\n"
          ]
        }
      ]
    },
    {
      "cell_type": "code",
      "source": [],
      "metadata": {
        "id": "rhrjEY0ouDD1"
      },
      "execution_count": null,
      "outputs": []
    },
    {
      "cell_type": "markdown",
      "source": [
        "**String Methods:**\n",
        "Python provides various built-in string methods for different string manipulations:"
      ],
      "metadata": {
        "id": "SAH7oNySuFFq"
      }
    },
    {
      "cell_type": "code",
      "source": [
        "# String methods\n",
        "text = \"   Hello, Python!   \"\n",
        "print(text.strip())       # Output: \"Hello, Python!\"\n",
        "print(text.lower())       # Output: \"   hello, python!   \"\n",
        "print(text.upper())       # Output: \"   HELLO, PYTHON!   \"\n",
        "print(text.replace(\" \", \"-\"))  # Output: \"---Hello,-Python!---\"\n"
      ],
      "metadata": {
        "id": "evDrehiDuFc0",
        "colab": {
          "base_uri": "https://localhost:8080/"
        },
        "outputId": "189692b0-bd51-4dc0-92ba-361c54a752a7"
      },
      "execution_count": null,
      "outputs": [
        {
          "output_type": "stream",
          "name": "stdout",
          "text": [
            "Hello, Python!\n",
            "   hello, python!   \n",
            "   HELLO, PYTHON!   \n",
            "---Hello,-Python!---\n"
          ]
        }
      ]
    },
    {
      "cell_type": "markdown",
      "source": [
        "**String Formatting:**\n",
        "You can use string formatting to create dynamic strings with placeholders:"
      ],
      "metadata": {
        "id": "paALBNIDuIRI"
      }
    },
    {
      "cell_type": "code",
      "source": [
        "# String formatting\n",
        "name = \"Alice\"\n",
        "age = 25\n",
        "message = \"My name is {} and I am {} years old.\".format(name, age)\n",
        "print(message)  # Output: \"My name is Alice and I am 25 years old.\"\n"
      ],
      "metadata": {
        "colab": {
          "base_uri": "https://localhost:8080/"
        },
        "id": "avk3Vt42uJzY",
        "outputId": "e480481e-3952-4b67-bcce-46b1a6af7712"
      },
      "execution_count": null,
      "outputs": [
        {
          "output_type": "stream",
          "name": "stdout",
          "text": [
            "My name is Alice and I am 25 years old.\n"
          ]
        }
      ]
    },
    {
      "cell_type": "markdown",
      "source": [
        "**String Escape Sequences:**\n",
        "Escape sequences are used to represent special characters in strings:"
      ],
      "metadata": {
        "id": "qC5kRWSVuTkm"
      }
    },
    {
      "cell_type": "code",
      "source": [
        "# Escape sequences\n",
        "print(\"New\\nLine\")     # Output: New (newline) Line\n",
        "print(\"Tab\\tCharacter\")  # Output: Tab       Character\n",
        "print(\"Backslash: \\\\\")  # Output: Backslash: \\\n"
      ],
      "metadata": {
        "colab": {
          "base_uri": "https://localhost:8080/"
        },
        "id": "yxMtIDxKuMA9",
        "outputId": "80bf2793-b7c6-4b98-c2bc-cd473bc2f0a7"
      },
      "execution_count": null,
      "outputs": [
        {
          "output_type": "stream",
          "name": "stdout",
          "text": [
            "New\n",
            "Line\n",
            "Tab\tCharacter\n",
            "Backslash: \\\n"
          ]
        }
      ]
    },
    {
      "cell_type": "markdown",
      "source": [
        "**String Operations with f-strings (Python 3.6+):**\n",
        "f-strings provide a concise way of formatting strings with variables:"
      ],
      "metadata": {
        "id": "yIu8ajiKuMbL"
      }
    },
    {
      "cell_type": "code",
      "source": [
        "# f-strings (Python 3.6+)\n",
        "name = \"Bob\"\n",
        "age = 30\n",
        "message = f\"My name is {name} and I am {age} years old.\"\n",
        "print(message)  # Output: \"My name is Bob and I am 30 years old.\"\n"
      ],
      "metadata": {
        "id": "I_tje8qoubgJ",
        "colab": {
          "base_uri": "https://localhost:8080/"
        },
        "outputId": "2a11967f-94ff-4b5f-e904-a608c7beb0d8"
      },
      "execution_count": null,
      "outputs": [
        {
          "output_type": "stream",
          "name": "stdout",
          "text": [
            "My name is Bob and I am 30 years old.\n"
          ]
        }
      ]
    },
    {
      "cell_type": "markdown",
      "source": [
        "## Boolean Data Type"
      ],
      "metadata": {
        "id": "Mhr-QTopuezs"
      }
    },
    {
      "cell_type": "markdown",
      "source": [
        "In Python, the boolean data type represents the truth values True or False. Booleans are commonly used in decision-making and conditional statements. In this tutorial, we will explore the boolean data type, its operations, and its significance in Python programming.\n",
        "\n",
        "**Boolean Data Type**\n",
        "\n",
        "Creating Boolean Variables\n",
        "To create a boolean variable, you can use the keywords True or False (note that they are case-sensitive)."
      ],
      "metadata": {
        "id": "2K6lV7X0uhyR"
      }
    },
    {
      "cell_type": "code",
      "source": [
        "# Creating boolean variables\n",
        "is_student = True\n",
        "is_teacher = False\n"
      ],
      "metadata": {
        "id": "f8-4fDNfulHF"
      },
      "execution_count": null,
      "outputs": []
    },
    {
      "cell_type": "code",
      "source": [],
      "metadata": {
        "colab": {
          "base_uri": "https://localhost:8080/",
          "height": 130
        },
        "id": "8ZupucY8umVP",
        "outputId": "b303e285-da30-40cd-dbbc-73e6ae01ad79"
      },
      "execution_count": null,
      "outputs": [
        {
          "output_type": "error",
          "ename": "SyntaxError",
          "evalue": "ignored",
          "traceback": [
            "\u001b[0;36m  File \u001b[0;32m\"<ipython-input-24-52ec261bab7f>\"\u001b[0;36m, line \u001b[0;32m1\u001b[0m\n\u001b[0;31m    Boolean Operators\u001b[0m\n\u001b[0m            ^\u001b[0m\n\u001b[0;31mSyntaxError\u001b[0m\u001b[0;31m:\u001b[0m invalid syntax\n"
          ]
        }
      ]
    },
    {
      "cell_type": "markdown",
      "source": [
        "Boolean Operators -\n",
        "**Comparison Operators:**\n",
        "Comparison operators compare two values and return a boolean value based on the comparison."
      ],
      "metadata": {
        "id": "aZXkibNDum3U"
      }
    },
    {
      "cell_type": "code",
      "source": [
        "# Comparison operators\n",
        "x = 10\n",
        "y = 5\n",
        "\n",
        "print(x == y)  # Output: False (x is not equal to y)\n",
        "print(x != y)  # Output: True (x is not equal to y)\n",
        "print(x > y)   # Output: True (x is greater than y)\n",
        "print(x < y)   # Output: False (x is less than y)\n",
        "print(x >= y)  # Output: True (x is greater than or equal to y)\n",
        "print(x <= y)  # Output: False (x is less than or equal to y)\n"
      ],
      "metadata": {
        "id": "oEt6KQR6usq0",
        "colab": {
          "base_uri": "https://localhost:8080/"
        },
        "outputId": "a62c84b8-135e-47bd-d6c4-d1717ddd4e5a"
      },
      "execution_count": null,
      "outputs": [
        {
          "output_type": "stream",
          "name": "stdout",
          "text": [
            "False\n",
            "True\n",
            "True\n",
            "False\n",
            "True\n",
            "False\n"
          ]
        }
      ]
    },
    {
      "cell_type": "markdown",
      "source": [
        "**Logical Operators**\n",
        "Logical operators perform logical operations on boolean values and return a boolean result."
      ],
      "metadata": {
        "id": "MaH_a1N_uuV3"
      }
    },
    {
      "cell_type": "code",
      "source": [
        "# Logical operators\n",
        "a = True\n",
        "b = False\n",
        "\n",
        "print(a and b)  # Output: False (both a and b are not True)\n",
        "print(a or b)   # Output: True (at least one of a or b is True)\n",
        "print(not a)    # Output: False (not True is False)\n"
      ],
      "metadata": {
        "id": "mOmf4jebuwe8"
      },
      "execution_count": null,
      "outputs": []
    },
    {
      "cell_type": "markdown",
      "source": [
        "## Lists and tuples"
      ],
      "metadata": {
        "id": "S7KBc9-BuzPg"
      }
    },
    {
      "cell_type": "code",
      "source": [],
      "metadata": {
        "id": "sy35COpUu2gT"
      },
      "execution_count": null,
      "outputs": []
    },
    {
      "cell_type": "markdown",
      "source": [
        "In Python, lists and tuples are used to store collections of items. They are versatile and fundamental data structures for managing multiple values. In this tutorial, we will explore lists and tuples, how to create and manipulate them, and the differences between the two.\n",
        "\n",
        "Lists -\n",
        "**Creating Lists**"
      ],
      "metadata": {
        "id": "WxRvQQJvu3D8"
      }
    },
    {
      "cell_type": "markdown",
      "source": [
        "To create a list, you can use square brackets [] and separate the items with commas."
      ],
      "metadata": {
        "id": "WK59Nmjgu5B3"
      }
    },
    {
      "cell_type": "code",
      "source": [
        "# Creating lists\n",
        "numbers = [1, 2, 3, 4, 5]\n",
        "fruits = [\"apple\", \"banana\", \"orange\"]\n"
      ],
      "metadata": {
        "id": "EIPiOED1u7Yw"
      },
      "execution_count": null,
      "outputs": []
    },
    {
      "cell_type": "markdown",
      "source": [
        "**Accessing Elements:**\n",
        "You can access individual elements in a list using indexing. Indexing starts from 0 for the first element."
      ],
      "metadata": {
        "id": "Geru7U9eu9FC"
      }
    },
    {
      "cell_type": "code",
      "source": [
        "# Accessing elements\n",
        "print(numbers[0])  # Output: 1\n",
        "print(fruits[2])   # Output: \"orange\"\n"
      ],
      "metadata": {
        "id": "sc7DZh50u-we"
      },
      "execution_count": null,
      "outputs": []
    },
    {
      "cell_type": "markdown",
      "source": [
        "**List Slicing:**\n",
        "List slicing allows you to extract a portion of a list."
      ],
      "metadata": {
        "id": "-eEHWRwIvCAG"
      }
    },
    {
      "cell_type": "code",
      "source": [
        "# List slicing\n",
        "print(numbers[1:4])  # Output: [2, 3, 4]\n",
        "print(fruits[:2])    # Output: [\"apple\", \"banana\"]"
      ],
      "metadata": {
        "colab": {
          "base_uri": "https://localhost:8080/"
        },
        "id": "EO8dV6SsvCjU",
        "outputId": "1ae6f466-2d0c-4a35-9a84-70c80ef7203f"
      },
      "execution_count": null,
      "outputs": [
        {
          "output_type": "stream",
          "name": "stdout",
          "text": [
            "[2, 3, 4]\n",
            "['apple', 'banana']\n"
          ]
        }
      ]
    },
    {
      "cell_type": "markdown",
      "source": [
        "**Modifying Elements:**\n",
        "You can modify elements in a list by assigning new values to specific indices."
      ],
      "metadata": {
        "id": "AEGFglfNvGeQ"
      }
    },
    {
      "cell_type": "code",
      "source": [
        "# Modifying elements\n",
        "fruits[0] = \"grape\"\n",
        "print(fruits)  # Output: [\"grape\", \"banana\", \"orange\"]\n"
      ],
      "metadata": {
        "id": "kpfFNegwvHeL",
        "colab": {
          "base_uri": "https://localhost:8080/"
        },
        "outputId": "6fb4a617-7cdd-4ea9-cee6-68e49deb0a8e"
      },
      "execution_count": null,
      "outputs": [
        {
          "output_type": "stream",
          "name": "stdout",
          "text": [
            "['grape', 'banana', 'orange']\n"
          ]
        }
      ]
    },
    {
      "cell_type": "markdown",
      "source": [
        "**List Methods:**\n",
        "Python provides several built-in methods for lists, such as append(), insert(), remove(), and pop()."
      ],
      "metadata": {
        "id": "a0d7ms5YvJRx"
      }
    },
    {
      "cell_type": "code",
      "source": [
        "# List methods\n",
        "fruits.append(\"kiwi\")       # Add an element to the end\n",
        "fruits.insert(1, \"cherry\")  # Insert an element at a specific index\n",
        "fruits.remove(\"banana\")     # Remove the first occurrence of an element\n",
        "fruits.pop(2)               # Remove the element at a specific index\n",
        "print(fruits)  # Output: [\"grape\", \"cherry\", \"orange\", \"kiwi\"]\n"
      ],
      "metadata": {
        "id": "mc7bYYBxvLYE"
      },
      "execution_count": null,
      "outputs": []
    },
    {
      "cell_type": "markdown",
      "source": [
        "#Tuples\n",
        "**Creating Tuples:**\n",
        "Tuples are created using parentheses () and separate the items with commas.\n"
      ],
      "metadata": {
        "id": "vsMQnaxbvNXz"
      }
    },
    {
      "cell_type": "code",
      "source": [
        "# Creating tuples\n",
        "point = (10, 20)\n",
        "colors = ('red', 'green', 'blue')\n"
      ],
      "metadata": {
        "id": "W0iJAOPpvQt1"
      },
      "execution_count": null,
      "outputs": []
    },
    {
      "cell_type": "markdown",
      "source": [
        "**Accessing Elements:**\n",
        "Similar to lists, you can access elements in a tuple using indexing."
      ],
      "metadata": {
        "id": "ESKqPdOJvUUb"
      }
    },
    {
      "cell_type": "code",
      "source": [
        "# Accessing elements in a tuple\n",
        "print(point[0])  # Output: 10\n",
        "print(colors[2]) # Output: \"blue\"\n"
      ],
      "metadata": {
        "colab": {
          "base_uri": "https://localhost:8080/"
        },
        "id": "3LdX9oIHvWVc",
        "outputId": "88175392-5009-467c-c06c-e8e6d67b379e"
      },
      "execution_count": null,
      "outputs": [
        {
          "output_type": "stream",
          "name": "stdout",
          "text": [
            "10\n",
            "blue\n"
          ]
        }
      ]
    },
    {
      "cell_type": "markdown",
      "source": [
        "**Tuple Packing and Unpacking:**\n",
        "You can pack multiple values into a tuple and later unpack them into separate variables."
      ],
      "metadata": {
        "id": "a75W46N0vbxo"
      }
    },
    {
      "cell_type": "code",
      "source": [
        "# Tuple packing and unpacking\n",
        "coordinates = 30, 40\n",
        "x, y = coordinates\n",
        "print(x)  # Output: 30\n",
        "print(y)  # Output: 40\n"
      ],
      "metadata": {
        "id": "XXTIjptkvXb3"
      },
      "execution_count": null,
      "outputs": []
    },
    {
      "cell_type": "markdown",
      "source": [
        "##Differences Between Lists and Tuples\n",
        "Lists are mutable (elements can be changed), while tuples are immutable (elements cannot be changed after creation).\n",
        "Lists use square brackets [], and tuples use parentheses () for their syntax."
      ],
      "metadata": {
        "id": "yXFq95dLvdNr"
      }
    },
    {
      "cell_type": "code",
      "source": [],
      "metadata": {
        "id": "1Br-sU7RvgWT"
      },
      "execution_count": null,
      "outputs": []
    },
    {
      "cell_type": "markdown",
      "source": [
        "# Dictionaries"
      ],
      "metadata": {
        "id": "Qxs1i4jjvg3l"
      }
    },
    {
      "cell_type": "markdown",
      "source": [
        "In Python, a dictionary is a powerful data structure that stores a collection of key-value pairs. Each key in the dictionary maps to a specific value, and dictionaries are useful for organizing and managing data in a flexible way. In this tutorial, we will explore dictionaries, how to create and manipulate them, and their various applications."
      ],
      "metadata": {
        "id": "IB92BBxQvwEV"
      }
    },
    {
      "cell_type": "markdown",
      "source": [
        "**Creating Dictionaries:**\n",
        "Creating Empty Dictionary\n",
        "You can create an empty dictionary by using curly braces {}:"
      ],
      "metadata": {
        "id": "VK-hXw-_vwfD"
      }
    },
    {
      "cell_type": "code",
      "source": [
        "# Creating an empty dictionary\n",
        "my_dict = {}\n"
      ],
      "metadata": {
        "id": "E6ZU35oDvibe"
      },
      "execution_count": null,
      "outputs": []
    },
    {
      "cell_type": "markdown",
      "source": [
        "**Creating Dictionary with Values:**\n",
        "To create a dictionary with initial key-value pairs, use the following syntax:\n",
        "\n"
      ],
      "metadata": {
        "id": "yxFzH0J2v08S"
      }
    },
    {
      "cell_type": "code",
      "source": [
        "# Creating a dictionary with values\n",
        "person = {\n",
        "    \"name\": \"John\",\n",
        "    \"age\": 30,\n",
        "    \"city\": \"New York\"\n",
        "}\n"
      ],
      "metadata": {
        "id": "ohnkoU9fv3xC"
      },
      "execution_count": null,
      "outputs": []
    },
    {
      "cell_type": "markdown",
      "source": [
        "**Accessing and Modifying Values:**\n",
        "Accessing Values\n",
        "You can access values in a dictionary using their corresponding keys:"
      ],
      "metadata": {
        "id": "gVuH2-q3v48M"
      }
    },
    {
      "cell_type": "code",
      "source": [
        "# Accessing values\n",
        "print(person[\"name\"])  # Output: \"John\"\n",
        "print(person[\"age\"])   # Output: 30\n"
      ],
      "metadata": {
        "colab": {
          "base_uri": "https://localhost:8080/"
        },
        "id": "U0qqhPAnv6T3",
        "outputId": "4673409a-50d3-48b5-d1a1-df509e05a099"
      },
      "execution_count": null,
      "outputs": [
        {
          "output_type": "stream",
          "name": "stdout",
          "text": [
            "John\n",
            "30\n"
          ]
        }
      ]
    },
    {
      "cell_type": "markdown",
      "source": [
        "**Modifying Values:**\n",
        "You can modify the value of a specific key in the dictionary:"
      ],
      "metadata": {
        "id": "-sCzPP9Ov-GA"
      }
    },
    {
      "cell_type": "code",
      "source": [
        "# Modifying values\n",
        "person[\"age\"] = 35\n",
        "print(person[\"age\"])  # Output: 35\n"
      ],
      "metadata": {
        "colab": {
          "base_uri": "https://localhost:8080/"
        },
        "id": "aQAaYfFyv7yH",
        "outputId": "e67bd56c-9137-4701-882c-6f1222871265"
      },
      "execution_count": null,
      "outputs": [
        {
          "output_type": "stream",
          "name": "stdout",
          "text": [
            "35\n"
          ]
        }
      ]
    },
    {
      "cell_type": "code",
      "source": [],
      "metadata": {
        "id": "5jTzsxZiwCUr"
      },
      "execution_count": null,
      "outputs": []
    },
    {
      "cell_type": "markdown",
      "source": [
        "Dictionary Methods -\n",
        "**Adding New Key-Value Pairs:**\n",
        "You can add new key-value pairs to a dictionary:"
      ],
      "metadata": {
        "id": "OkfS3ZpUwEIn"
      }
    },
    {
      "cell_type": "code",
      "source": [
        "# Adding new key-value pairs\n",
        "person[\"occupation\"] = \"Engineer\"\n",
        "print(person)  # Output: {'name': 'John', 'age': 35, 'city': 'New York', 'occupation': 'Engineer'}\n"
      ],
      "metadata": {
        "id": "mlHFj9SXwEsn",
        "colab": {
          "base_uri": "https://localhost:8080/"
        },
        "outputId": "69f5dc1f-d589-4f5f-a107-9b171a808202"
      },
      "execution_count": null,
      "outputs": [
        {
          "output_type": "stream",
          "name": "stdout",
          "text": [
            "{'name': 'John', 'age': 30, 'city': 'New York', 'occupation': 'Engineer'}\n"
          ]
        }
      ]
    },
    {
      "cell_type": "markdown",
      "source": [
        "**Dictionary Length:**\n",
        "You can find the number of key-value pairs in a dictionary using the len() function:"
      ],
      "metadata": {
        "id": "69qx1Z5zwGfN"
      }
    },
    {
      "cell_type": "code",
      "source": [
        "# Dictionary length\n",
        "print(len(person))  # Output: 4 (Number of key-value pairs)\n"
      ],
      "metadata": {
        "id": "J31F5QxrwIXP",
        "colab": {
          "base_uri": "https://localhost:8080/"
        },
        "outputId": "51078f29-42dd-4214-e850-e8962eb3c9ca"
      },
      "execution_count": null,
      "outputs": [
        {
          "output_type": "stream",
          "name": "stdout",
          "text": [
            "4\n"
          ]
        }
      ]
    },
    {
      "cell_type": "markdown",
      "source": [
        "**Removing Key-Value Pairs:**\n",
        "You can remove a key-value pair from a dictionary using the pop() method:"
      ],
      "metadata": {
        "id": "j1EFKxIUwKSt"
      }
    },
    {
      "cell_type": "code",
      "source": [
        "# Removing a key-value pair\n",
        "person.pop(\"city\")\n",
        "print(person)  # Output: {'name': 'John', 'age': 35, 'occupation': 'Engineer'}\n"
      ],
      "metadata": {
        "id": "8mAe4t6EwMGv",
        "colab": {
          "base_uri": "https://localhost:8080/"
        },
        "outputId": "c1f9c342-80cd-4508-ff89-39f6f352e446"
      },
      "execution_count": null,
      "outputs": [
        {
          "output_type": "stream",
          "name": "stdout",
          "text": [
            "{'name': 'John', 'age': 30, 'occupation': 'Engineer'}\n"
          ]
        }
      ]
    },
    {
      "cell_type": "markdown",
      "source": [],
      "metadata": {
        "id": "jpiJtehgwN-t"
      }
    }
  ]
}